{
 "cells": [
  {
   "cell_type": "code",
   "execution_count": null,
   "id": "308578f4",
   "metadata": {},
   "outputs": [],
   "source": [
    "import pandas as pd\n",
    "\n",
    "# Load the tsv files\n",
    "file1 = pd.read_csv('Processed_A1_Annotations', delimiter='\\t')\n",
    "file2 = pd.read_csv('processed_A2_annotations', delimiter='\\t')\n",
    "\n",
    "# Extract only the required columns from both dataframes\n",
    "file1_subset = file1[['index', 'id1', 'id2', 'label']]\n",
    "file2_subset = file2[['index', 'id1', 'id2', 'label']]\n",
    "\n",
    "# Merge the two dataframes based on index, id1, and id2 columns\n",
    "merged = file1_subset.merge(file2_subset, on=['index', 'id1', 'id2'], how='inner', suffixes=('_file1', '_file2'))\n",
    "\n",
    "# Initialize counters for all categories\n",
    "count_00 = 0\n",
    "count_11 = 0\n",
    "count_01 = 0\n",
    "count_10 = 0\n",
    "\n",
    "# Iterate through the rows and compare labels\n",
    "for _, row in merged.iterrows():\n",
    "    label1 = row['label_file1']\n",
    "    label2 = row['label_file2']\n",
    "\n",
    "    if label1 == 0 and label2 == 0:\n",
    "        count_00 += 1\n",
    "    elif label1 == 1 and label2 == 1:\n",
    "        count_11 += 1\n",
    "    elif label1 == 0 and label2 == 1:\n",
    "        count_01 += 1\n",
    "    elif label1 == 1 and label2 == 0:\n",
    "        count_10 += 1\n",
    "\n",
    "print(f\"Count of A1 labelling non-causal and A2 labelling non-causal: {count_00}\")\n",
    "print(f\"Count of A1 labelling causal and A2 labelling causal: {count_11}\")\n",
    "print(f\"Count of A1 labelling non-causal and A2 labelling causal: {count_01}\")\n",
    "print(f\"Count of A1 labelling causal and A2 labelling non-causal: {count_10}\")\n"
   ]
  },
  {
   "cell_type": "code",
   "execution_count": null,
   "id": "93aeb881",
   "metadata": {},
   "outputs": [],
   "source": [
    "def calculate_cohens_kappa(count_00, count_11, count_01, count_10):\n",
    "    # Total number of observations\n",
    "    n = count_00 + count_11 + count_01 + count_10\n",
    "    \n",
    "    # Observed agreement\n",
    "    Po = (count_00 + count_11) / n\n",
    "    \n",
    "    # Expected agreement\n",
    "    Pe = ((count_00 + count_01) * (count_00 + count_10) + (count_11 + count_10) * (count_11 + count_01)) / n**2\n",
    "    \n",
    "    # Cohen's kappa\n",
    "    kappa = (Po - Pe) / (1 - Pe)\n",
    "    \n",
    "    return kappa\n",
    "\n",
    "# Calculate Cohen's kappa\n",
    "kappa = calculate_cohens_kappa(count_00, count_11, count_01, count_10)\n",
    "print(f\"Cohen's kappa: {kappa}\")"
   ]
  }
 ],
 "metadata": {
  "kernelspec": {
   "display_name": "myenv",
   "language": "python",
   "name": "myenv"
  },
  "language_info": {
   "codemirror_mode": {
    "name": "ipython",
    "version": 3
   },
   "file_extension": ".py",
   "mimetype": "text/x-python",
   "name": "python",
   "nbconvert_exporter": "python",
   "pygments_lexer": "ipython3",
   "version": "3.10.0"
  }
 },
 "nbformat": 4,
 "nbformat_minor": 5
}
